{
 "cells": [
  {
   "cell_type": "markdown",
   "metadata": {
    "collapsed": false
   },
   "source": [
    "# JULIA SETS\n",
    "### Arjun Reddy Tummala"
   ]
  },
  {
   "cell_type": "code",
   "execution_count": 1,
   "metadata": {
    "collapsed": false
   },
   "outputs": [],
   "source": [
    "class JuliaSet(object):\n",
    "    \n",
    "    def __init__(self, c, n=100):\n",
    "        self.c = c\n",
    "        self.n = n\n",
    "        self._d = 0.001\n",
    "        self._complexplane = []\n",
    "        self.set = []\n",
    "       \n",
    "    def makeplane(self):\n",
    "        r=[i*self._d for i in range(int(-2/self._d),int(2/self._d),1)]\n",
    "        self._complexplane=[complex(x,y) for x in r for y in r]\n",
    "        \n",
    "    def juliamap(self, z):\n",
    "        return (z**2) + self.c\n",
    "    \n",
    "    def iterate(self, z):\n",
    "        m = 0\n",
    "        while True:\n",
    "            z=self.juliamap(z)\n",
    "            m = m + 1\n",
    "            if  abs(z) > 2:\n",
    "                return m\n",
    "            if m >=self.n:\n",
    "                return 0\n",
    "\n",
    "    def set_spacing(self, d):\n",
    "        self._d = d\n",
    "        self.makeplane()\n",
    "\n",
    "    def generate(self):\n",
    "        self.set = [self.iterate(z) for z in self._complexplane]\n",
    "        return self.set\n",
    "\n"
   ]
  },
  {
   "cell_type": "code",
   "execution_count": 2,
   "metadata": {
    "collapsed": false
   },
   "outputs": [
    {
     "name": "stdout",
     "output_type": "stream",
     "text": [
      "(3+4j)\n"
     ]
    }
   ],
   "source": [
    "c=complex(3,4)\n",
    "print c\n",
    "\n",
    "#Printing a complex number"
   ]
  },
  {
   "cell_type": "code",
   "execution_count": 3,
   "metadata": {
    "collapsed": false
   },
   "outputs": [],
   "source": [
    "\n",
    "a=JuliaSet(3+4j,10)"
   ]
  },
  {
   "cell_type": "code",
   "execution_count": 4,
   "metadata": {
    "collapsed": false
   },
   "outputs": [
    {
     "name": "stdout",
     "output_type": "stream",
     "text": [
      "(12+4j)\n"
     ]
    }
   ],
   "source": [
    "print a.juliamap(3)"
   ]
  },
  {
   "cell_type": "code",
   "execution_count": null,
   "metadata": {
    "collapsed": true
   },
   "outputs": [],
   "source": []
  }
 ],
 "metadata": {
  "kernelspec": {
   "display_name": "Python 2",
   "language": "python",
   "name": "python2"
  },
  "language_info": {
   "codemirror_mode": {
    "name": "ipython",
    "version": 2
   },
   "file_extension": ".py",
   "mimetype": "text/x-python",
   "name": "python",
   "nbconvert_exporter": "python",
   "pygments_lexer": "ipython2",
   "version": "2.7.9"
  },
  "name": "Juliaset.ipynb"
 },
 "nbformat": 4,
 "nbformat_minor": 0
}
