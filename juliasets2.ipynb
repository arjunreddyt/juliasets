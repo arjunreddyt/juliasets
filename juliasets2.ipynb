{
 "cells": [
  {
   "cell_type": "code",
   "execution_count": 1,
   "metadata": {
    "collapsed": false
   },
   "outputs": [],
   "source": [
    "# Math libraries\n",
    "import numpy as np\n",
    "from math import sqrt\n",
    "\n",
    "# Matplotlib plotting libraries\n",
    "import matplotlib.pyplot as plt\n",
    "%matplotlib inline\n",
    "\n",
    "# Bokeh plotting libraries\n",
    "import bokeh.plotting as blt\n",
    "blt.output_notebook()"
   ]
  },
  {
   "cell_type": "code",
   "execution_count": 5,
   "metadata": {
    "collapsed": false
   },
   "outputs": [],
   "source": [
    "class JuliaSet(object):\n",
    "    \n",
    "    def __init__(self, c, n=100):\n",
    "        self.c = c\n",
    "        self.n = n\n",
    "        self._d = 0.001\n",
    "        self.complexplane = np.array([])\n",
    "        self.set = np.array([])\n",
    "        \n",
    "\n",
    "\n",
    "    def makeplane(self):\n",
    "\n",
    "        i=np.arange(-2,2,self._d)\n",
    "\n",
    "        self._complexplane=[complex(x,y) for x in i for y in i]\n",
    "\n",
    "                \n",
    "\n",
    "    def juliamap(self, z):\n",
    "\n",
    "        return (z**2) + self.c\n",
    "\n",
    "    \n",
    "\n",
    "    def iterate(self, z):\n",
    "\n",
    "        m = 0\n",
    "\n",
    "        while True:\n",
    "\n",
    "            z=self.juliamap(z)\n",
    "\n",
    "            m = m + 1\n",
    "\n",
    "            if  abs(z) > 2:\n",
    "\n",
    "                return m\n",
    "\n",
    "            if m >=self.n:\n",
    "\n",
    "                return 0\n",
    "\n",
    "\n",
    "\n",
    "    def set_spacing(self, d):\n",
    "\n",
    "        self._d = d\n",
    "\n",
    "        self.makeplane()\n",
    "\n",
    "\n",
    "\n",
    "    def generate(self):\n",
    "\n",
    "        self.set = [self.iterate(z) for z in self._complexplane]\n",
    "\n",
    "        return self.set\n",
    "\n",
    "\n",
    "\n",
    "\n",
    "\n",
    "\n",
    "\n",
    "\n",
    "\n"
   ]
  },
  {
   "cell_type": "code",
   "execution_count": 6,
   "metadata": {
    "collapsed": true
   },
   "outputs": [],
   "source": [
    "class JuliaSetPlot(JuliaSet):\n",
    "    \"\"\"Extend JuliaSet to add plotting functionality\"\"\"\n",
    "    \n",
    "    def __init__(self, *args, **kwargs):\n",
    "        # Invoke constructor for JuliaSet first, unaltered\n",
    "        super(JuliaSetPlot, self).__init__(*args, **kwargs)\n",
    "        # Add one more attribute: a rendered image array\n",
    "        self.img = np.array([])\n",
    "    \n",
    "    def get_dim(self):\n",
    "        # get what should be an attribute\n",
    "        return int(sqrt(self.img.size)) #int(4.0 / self._d)\n",
    "    \n",
    "    def render(self):\n",
    "        if not self.set: self.generate()\n",
    "        # Convert inefficient list to efficient numpy array\n",
    "        self.img = np.array(self.set)\n",
    "        dim = self.get_dim()\n",
    "        # Reshape array into a 2d complex plane\n",
    "        self.img = np.reshape(self.img, (dim,dim)).T\n",
    "        \n",
    "    def show(self):\n",
    "        if not self.img.size: self.render()\n",
    "        # Specify complex plane axes efficiently\n",
    "        xy = np.linspace(-2,2,self.get_dim())\n",
    "        # Use matplotlib to plot image as an efficient mesh\n",
    "        plt.figure(1, figsize=(12,9))\n",
    "        plt.pcolormesh(xy,xy,self.img, cmap=plt.cm.hot)\n",
    "        plt.colorbar()\n",
    "        plt.show()\n",
    "        \n",
    "    def interact(self):\n",
    "        from matplotlib.colors import rgb2hex\n",
    "        if not self.img.size: self.render()\n",
    "        # Mimic matplotlib \"hot\" color palette\n",
    "        colormap = plt.cm.get_cmap(\"hot\")\n",
    "        bokehpalette = [rgb2hex(m) for m in colormap(np.arange(colormap.N))]\n",
    "        # Use bokeh to plot an interactive image\n",
    "        f = blt.figure(x_range=[-2,2], y_range=[-2,2], plot_width=600, plot_height=600)\n",
    "        f.image(image=[j.img], x=[-2,2], y=[-2,2], dw=[4], dh=[4], palette=bokehpalette)\n",
    "        blt.show(f)"
   ]
  },
  {
   "cell_type": "code",
   "execution_count": 7,
   "metadata": {
    "collapsed": false
   },
   "outputs": [],
   "source": [
    "j = JuliaSetPlot(-1.037 + 0.17j)\n",
    "%time j.set_spacing(0.006)\n",
    "%time j.show()"
   ]
  },
  {
   "cell_type": "code",
   "execution_count": 8,
   "metadata": {
    "collapsed": false
   },
   "outputs": [],
   "source": [
    "j = JuliaSetPlot(-0.624 + 0.435j)\n",
    "%time j.set_spacing(0.006)\n",
    "%time j.interact()"
   ]
  },
  {
   "cell_type": "code",
   "execution_count": null,
   "metadata": {
    "collapsed": true
   },
   "outputs": [],
   "source": []
  },
  {
   "cell_type": "code",
   "execution_count": null,
   "metadata": {
    "collapsed": true
   },
   "outputs": [],
   "source": []
  },
  {
   "cell_type": "code",
   "execution_count": null,
   "metadata": {
    "collapsed": true
   },
   "outputs": [],
   "source": []
  },
  {
   "cell_type": "code",
   "execution_count": null,
   "metadata": {
    "collapsed": true
   },
   "outputs": [],
   "source": []
  }
 ],
 "metadata": {
  "kernelspec": {
   "display_name": "Python 2",
   "language": "python",
   "name": "python2"
  },
  "language_info": {
   "codemirror_mode": {
    "name": "ipython",
    "version": 2
   },
   "file_extension": ".py",
   "mimetype": "text/x-python",
   "name": "python",
   "nbconvert_exporter": "python",
   "pygments_lexer": "ipython2",
   "version": "2.7.9"
  },
  "name": "juliasets2.ipynb"
 },
 "nbformat": 4,
 "nbformat_minor": 0
}
